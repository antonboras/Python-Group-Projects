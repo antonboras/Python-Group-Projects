{
 "cells": [
  {
   "cell_type": "markdown",
   "id": "7d4a135b-7a51-4739-9f81-c6df7ecb9e1c",
   "metadata": {},
   "source": [
    "# Data Analytics II: Project Part A\n",
    "\n",
    "Group Number 62\\\n",
    "Anton Börås\\\n",
    "Karl Marten Kristenprun\\\n",
    "Bo Strömberg\\\n",
    "Birger von Schenck\\\n",
    "2025-02-02"
   ]
  },
  {
   "cell_type": "code",
   "execution_count": 1,
   "id": "d4c3b66e-3cc7-45d2-97af-b60a06ead886",
   "metadata": {
    "tags": []
   },
   "outputs": [],
   "source": [
    "import pandas as pd\n",
    "import matplotlib.pyplot as plt\n",
    "import seaborn as sns\n",
    "import numpy as np\n",
    "# ...add packages here"
   ]
  },
  {
   "cell_type": "markdown",
   "id": "f5f4acbb-801a-42a9-928a-a3f26f198885",
   "metadata": {},
   "source": [
    "## A.1 – Exploratory Data Analysis (EDA)"
   ]
  },
  {
   "cell_type": "code",
   "execution_count": 2,
   "id": "71b91784-4fdf-43a3-95a9-e0a25fd7d24d",
   "metadata": {
    "tags": []
   },
   "outputs": [],
   "source": [
    "# A.1.1\n",
    "# Your code here"
   ]
  },
  {
   "cell_type": "markdown",
   "id": "372b0f90-ea98-4d45-b273-1fa534ed087e",
   "metadata": {},
   "source": [
    "Your comments here"
   ]
  },
  {
   "cell_type": "code",
   "execution_count": 3,
   "id": "f952ac88-c29d-4cd5-9ceb-29965d2cbc6e",
   "metadata": {},
   "outputs": [],
   "source": [
    "# A.1.2\n",
    "# Your code here"
   ]
  },
  {
   "cell_type": "markdown",
   "id": "89e46365-ff6f-47e9-98f4-f45120309799",
   "metadata": {},
   "source": [
    "Do the variables *income* and *age* appear to be (approximately) normally distributed?\n",
    "\n",
    "Your comments here"
   ]
  },
  {
   "cell_type": "markdown",
   "id": "f3542488-4ff1-47f1-92f1-36bed3d4e87e",
   "metadata": {},
   "source": [
    "Can you think of a suitable distribution for the variable children?\n",
    "\n",
    "Your comments here"
   ]
  },
  {
   "cell_type": "code",
   "execution_count": 4,
   "id": "5fe4659d-e0c5-4b26-b98e-49433e796543",
   "metadata": {},
   "outputs": [],
   "source": [
    "# A.1.3\n",
    "# Your code here"
   ]
  },
  {
   "cell_type": "markdown",
   "id": "e491da31-6482-4efd-abac-d3ae61607571",
   "metadata": {},
   "source": [
    "Your comments here"
   ]
  },
  {
   "cell_type": "markdown",
   "id": "236bf48a-bea7-4279-bb1e-a1fefd4d6205",
   "metadata": {},
   "source": [
    "## A.2 – Confidence Intervals"
   ]
  },
  {
   "cell_type": "code",
   "execution_count": 5,
   "id": "a97effab-ef59-4801-bc04-fd344b33cfdd",
   "metadata": {},
   "outputs": [],
   "source": [
    "# A.2.1\n",
    "# Your code here"
   ]
  },
  {
   "cell_type": "markdown",
   "id": "01115349-703c-463d-a762-0ff50fc1167f",
   "metadata": {},
   "source": [
    "Your comments here"
   ]
  },
  {
   "cell_type": "code",
   "execution_count": 6,
   "id": "bf02010b-b3d7-4e6a-91e7-bb0ec2423aea",
   "metadata": {},
   "outputs": [],
   "source": [
    "# A.2.2\n",
    "# Your code here"
   ]
  },
  {
   "cell_type": "markdown",
   "id": "099034a0-6b8e-416f-a6ce-df76317f3af9",
   "metadata": {},
   "source": [
    "Your comments here"
   ]
  },
  {
   "cell_type": "code",
   "execution_count": 7,
   "id": "31e3f5d0-7918-4e7d-83b0-5ee10b07aa91",
   "metadata": {},
   "outputs": [],
   "source": [
    "# A.2.3\n",
    "# Your code here"
   ]
  },
  {
   "cell_type": "markdown",
   "id": "2c4b2b93-f83a-4377-9a5f-c4a1cb261033",
   "metadata": {},
   "source": [
    "Your comments here"
   ]
  },
  {
   "cell_type": "code",
   "execution_count": 8,
   "id": "1e5692f5-98de-47a1-a3fb-92d8b6540c4c",
   "metadata": {
    "tags": []
   },
   "outputs": [],
   "source": [
    "# A.2.4\n",
    "# Your code here"
   ]
  },
  {
   "cell_type": "markdown",
   "id": "c773b59f-4dea-4736-a23f-29cae41e03b3",
   "metadata": {},
   "source": [
    "Your comments here"
   ]
  },
  {
   "cell_type": "markdown",
   "id": "2ebd46e0-6901-4d50-adb1-e696422afff3",
   "metadata": {},
   "source": [
    "## A.3 – Confidence Intervals and the Sample Size"
   ]
  },
  {
   "cell_type": "code",
   "execution_count": 9,
   "id": "8e354e7b-1afc-4b4c-9c63-03ad0d796220",
   "metadata": {},
   "outputs": [],
   "source": [
    "# A.3.1\n",
    "# Your code here"
   ]
  },
  {
   "cell_type": "markdown",
   "id": "95070edd-9d8c-4bdf-bd71-592ebf9cfbd7",
   "metadata": {},
   "source": [
    "Your comments here"
   ]
  },
  {
   "cell_type": "code",
   "execution_count": 10,
   "id": "4341bee4-4387-408d-9bf7-a79087fd8cd2",
   "metadata": {},
   "outputs": [],
   "source": [
    "# A.3.2\n",
    "# Your code here"
   ]
  },
  {
   "cell_type": "markdown",
   "id": "dfc63220-3786-4c27-a6c3-e4cff6279647",
   "metadata": {},
   "source": [
    "Your comments here\n",
    "\n",
    "How should the confidence level be adjusted as the size of the sample increases? Why?\n",
    "\n",
    "Your comments here"
   ]
  }
 ],
 "metadata": {
  "kernelspec": {
   "display_name": "base",
   "language": "python",
   "name": "python3"
  },
  "language_info": {
   "codemirror_mode": {
    "name": "ipython",
    "version": 3
   },
   "file_extension": ".py",
   "mimetype": "text/x-python",
   "name": "python",
   "nbconvert_exporter": "python",
   "pygments_lexer": "ipython3",
   "version": "3.12.4"
  }
 },
 "nbformat": 4,
 "nbformat_minor": 5
}
