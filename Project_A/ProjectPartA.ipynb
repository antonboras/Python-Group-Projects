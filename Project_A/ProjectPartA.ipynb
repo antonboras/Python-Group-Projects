{
 "cells": [
  {
   "cell_type": "markdown",
   "id": "7d4a135b-7a51-4739-9f81-c6df7ecb9e1c",
   "metadata": {},
   "source": [
    "# Data Analytics II: Project Part A\n",
    "\n",
    "Group Number 62\\\n",
    "Anton Börås\\\n",
    "Karl Marten Kristenprun\\\n",
    "Bo Strömberg\\\n",
    "Birger von Schenck\\\n",
    "2025-02-02"
   ]
  },
  {
   "cell_type": "code",
   "execution_count": 21,
   "id": "d4c3b66e-3cc7-45d2-97af-b60a06ead886",
   "metadata": {
    "tags": []
   },
   "outputs": [],
   "source": [
    "import pandas as pd\n",
    "import matplotlib.pyplot as plt\n",
    "import seaborn as sns\n",
    "import numpy as np\n",
    "# ...add packages here"
   ]
  },
  {
   "cell_type": "markdown",
   "id": "f5f4acbb-801a-42a9-928a-a3f26f198885",
   "metadata": {},
   "source": [
    "## A.1 – Exploratory Data Analysis (EDA)"
   ]
  },
  {
   "cell_type": "code",
   "execution_count": 22,
   "id": "71b91784-4fdf-43a3-95a9-e0a25fd7d24d",
   "metadata": {
    "tags": []
   },
   "outputs": [
    {
     "data": {
      "text/html": [
       "<div>\n",
       "<style scoped>\n",
       "    .dataframe tbody tr th:only-of-type {\n",
       "        vertical-align: middle;\n",
       "    }\n",
       "\n",
       "    .dataframe tbody tr th {\n",
       "        vertical-align: top;\n",
       "    }\n",
       "\n",
       "    .dataframe thead th {\n",
       "        text-align: right;\n",
       "    }\n",
       "</style>\n",
       "<table border=\"1\" class=\"dataframe\">\n",
       "  <thead>\n",
       "    <tr style=\"text-align: right;\">\n",
       "      <th></th>\n",
       "      <th>age</th>\n",
       "      <th>gender</th>\n",
       "      <th>income</th>\n",
       "      <th>kids</th>\n",
       "      <th>ownHome</th>\n",
       "      <th>subscribe</th>\n",
       "      <th>Segment</th>\n",
       "    </tr>\n",
       "  </thead>\n",
       "  <tbody>\n",
       "    <tr>\n",
       "      <th>0</th>\n",
       "      <td>42</td>\n",
       "      <td>Female</td>\n",
       "      <td>47681</td>\n",
       "      <td>0</td>\n",
       "      <td>ownNo</td>\n",
       "      <td>subNo</td>\n",
       "      <td>Suburb mix</td>\n",
       "    </tr>\n",
       "    <tr>\n",
       "      <th>1</th>\n",
       "      <td>37</td>\n",
       "      <td>Male</td>\n",
       "      <td>80189</td>\n",
       "      <td>2</td>\n",
       "      <td>ownNo</td>\n",
       "      <td>subNo</td>\n",
       "      <td>Suburb mix</td>\n",
       "    </tr>\n",
       "    <tr>\n",
       "      <th>2</th>\n",
       "      <td>43</td>\n",
       "      <td>Female</td>\n",
       "      <td>38951</td>\n",
       "      <td>1</td>\n",
       "      <td>ownYes</td>\n",
       "      <td>subNo</td>\n",
       "      <td>Suburb mix</td>\n",
       "    </tr>\n",
       "    <tr>\n",
       "      <th>3</th>\n",
       "      <td>35</td>\n",
       "      <td>Female</td>\n",
       "      <td>61085</td>\n",
       "      <td>0</td>\n",
       "      <td>ownYes</td>\n",
       "      <td>subNo</td>\n",
       "      <td>Suburb mix</td>\n",
       "    </tr>\n",
       "    <tr>\n",
       "      <th>4</th>\n",
       "      <td>42</td>\n",
       "      <td>Male</td>\n",
       "      <td>64031</td>\n",
       "      <td>3</td>\n",
       "      <td>ownNo</td>\n",
       "      <td>subNo</td>\n",
       "      <td>Suburb mix</td>\n",
       "    </tr>\n",
       "    <tr>\n",
       "      <th>...</th>\n",
       "      <td>...</td>\n",
       "      <td>...</td>\n",
       "      <td>...</td>\n",
       "      <td>...</td>\n",
       "      <td>...</td>\n",
       "      <td>...</td>\n",
       "      <td>...</td>\n",
       "    </tr>\n",
       "    <tr>\n",
       "      <th>295</th>\n",
       "      <td>33</td>\n",
       "      <td>Female</td>\n",
       "      <td>57648</td>\n",
       "      <td>1</td>\n",
       "      <td>ownNo</td>\n",
       "      <td>subNo</td>\n",
       "      <td>Moving up</td>\n",
       "    </tr>\n",
       "    <tr>\n",
       "      <th>296</th>\n",
       "      <td>38</td>\n",
       "      <td>Male</td>\n",
       "      <td>58513</td>\n",
       "      <td>3</td>\n",
       "      <td>ownYes</td>\n",
       "      <td>subNo</td>\n",
       "      <td>Moving up</td>\n",
       "    </tr>\n",
       "    <tr>\n",
       "      <th>297</th>\n",
       "      <td>33</td>\n",
       "      <td>Female</td>\n",
       "      <td>44837</td>\n",
       "      <td>0</td>\n",
       "      <td>ownNo</td>\n",
       "      <td>subNo</td>\n",
       "      <td>Moving up</td>\n",
       "    </tr>\n",
       "    <tr>\n",
       "      <th>298</th>\n",
       "      <td>34</td>\n",
       "      <td>Female</td>\n",
       "      <td>58099</td>\n",
       "      <td>1</td>\n",
       "      <td>ownNo</td>\n",
       "      <td>subNo</td>\n",
       "      <td>Moving up</td>\n",
       "    </tr>\n",
       "    <tr>\n",
       "      <th>299</th>\n",
       "      <td>41</td>\n",
       "      <td>Male</td>\n",
       "      <td>55979</td>\n",
       "      <td>1</td>\n",
       "      <td>ownYes</td>\n",
       "      <td>subNo</td>\n",
       "      <td>Moving up</td>\n",
       "    </tr>\n",
       "  </tbody>\n",
       "</table>\n",
       "<p>300 rows × 7 columns</p>\n",
       "</div>"
      ],
      "text/plain": [
       "     age  gender  income  kids ownHome subscribe     Segment\n",
       "0     42  Female   47681     0   ownNo     subNo  Suburb mix\n",
       "1     37    Male   80189     2   ownNo     subNo  Suburb mix\n",
       "2     43  Female   38951     1  ownYes     subNo  Suburb mix\n",
       "3     35  Female   61085     0  ownYes     subNo  Suburb mix\n",
       "4     42    Male   64031     3   ownNo     subNo  Suburb mix\n",
       "..   ...     ...     ...   ...     ...       ...         ...\n",
       "295   33  Female   57648     1   ownNo     subNo   Moving up\n",
       "296   38    Male   58513     3  ownYes     subNo   Moving up\n",
       "297   33  Female   44837     0   ownNo     subNo   Moving up\n",
       "298   34  Female   58099     1   ownNo     subNo   Moving up\n",
       "299   41    Male   55979     1  ownYes     subNo   Moving up\n",
       "\n",
       "[300 rows x 7 columns]"
      ]
     },
     "execution_count": 22,
     "metadata": {},
     "output_type": "execute_result"
    }
   ],
   "source": [
    "# A.1.1\n",
    "# Your code here\n",
    "df = pd.read_excel('SegmentData62.xlsx')\n",
    "df"
   ]
  },
  {
   "cell_type": "markdown",
   "id": "372b0f90-ea98-4d45-b273-1fa534ed087e",
   "metadata": {},
   "source": [
    "Your comments here"
   ]
  },
  {
   "cell_type": "code",
   "execution_count": 23,
   "id": "f952ac88-c29d-4cd5-9ceb-29965d2cbc6e",
   "metadata": {},
   "outputs": [],
   "source": [
    "# A.1.2\n",
    "# Your code here"
   ]
  },
  {
   "cell_type": "markdown",
   "id": "89e46365-ff6f-47e9-98f4-f45120309799",
   "metadata": {},
   "source": [
    "Do the variables *income* and *age* appear to be (approximately) normally distributed?\n",
    "\n",
    "Your comments here"
   ]
  },
  {
   "cell_type": "markdown",
   "id": "f3542488-4ff1-47f1-92f1-36bed3d4e87e",
   "metadata": {},
   "source": [
    "Can you think of a suitable distribution for the variable children?\n",
    "\n",
    "Your comments here"
   ]
  },
  {
   "cell_type": "code",
   "execution_count": 24,
   "id": "5fe4659d-e0c5-4b26-b98e-49433e796543",
   "metadata": {},
   "outputs": [],
   "source": [
    "# A.1.3\n",
    "# Your code here"
   ]
  },
  {
   "cell_type": "markdown",
   "id": "e491da31-6482-4efd-abac-d3ae61607571",
   "metadata": {},
   "source": [
    "Your comments here"
   ]
  },
  {
   "cell_type": "markdown",
   "id": "236bf48a-bea7-4279-bb1e-a1fefd4d6205",
   "metadata": {},
   "source": [
    "## A.2 – Confidence Intervals"
   ]
  },
  {
   "cell_type": "code",
   "execution_count": 25,
   "id": "a97effab-ef59-4801-bc04-fd344b33cfdd",
   "metadata": {},
   "outputs": [],
   "source": [
    "# A.2.1\n",
    "# Your code here"
   ]
  },
  {
   "cell_type": "markdown",
   "id": "01115349-703c-463d-a762-0ff50fc1167f",
   "metadata": {},
   "source": [
    "Your comments here"
   ]
  },
  {
   "cell_type": "code",
   "execution_count": 26,
   "id": "bf02010b-b3d7-4e6a-91e7-bb0ec2423aea",
   "metadata": {},
   "outputs": [],
   "source": [
    "# A.2.2\n",
    "# Your code here"
   ]
  },
  {
   "cell_type": "markdown",
   "id": "099034a0-6b8e-416f-a6ce-df76317f3af9",
   "metadata": {},
   "source": [
    "Your comments here"
   ]
  },
  {
   "cell_type": "code",
   "execution_count": 27,
   "id": "31e3f5d0-7918-4e7d-83b0-5ee10b07aa91",
   "metadata": {},
   "outputs": [],
   "source": [
    "# A.2.3\n",
    "# Your code here"
   ]
  },
  {
   "cell_type": "markdown",
   "id": "2c4b2b93-f83a-4377-9a5f-c4a1cb261033",
   "metadata": {},
   "source": [
    "Your comments here"
   ]
  },
  {
   "cell_type": "code",
   "execution_count": 28,
   "id": "1e5692f5-98de-47a1-a3fb-92d8b6540c4c",
   "metadata": {
    "tags": []
   },
   "outputs": [],
   "source": [
    "# A.2.4\n",
    "# Your code here"
   ]
  },
  {
   "cell_type": "markdown",
   "id": "c773b59f-4dea-4736-a23f-29cae41e03b3",
   "metadata": {},
   "source": [
    "Your comments here"
   ]
  },
  {
   "cell_type": "markdown",
   "id": "2ebd46e0-6901-4d50-adb1-e696422afff3",
   "metadata": {},
   "source": [
    "## A.3 – Confidence Intervals and the Sample Size"
   ]
  },
  {
   "cell_type": "code",
   "execution_count": 29,
   "id": "8e354e7b-1afc-4b4c-9c63-03ad0d796220",
   "metadata": {},
   "outputs": [],
   "source": [
    "# A.3.1\n",
    "# Your code here"
   ]
  },
  {
   "cell_type": "markdown",
   "id": "95070edd-9d8c-4bdf-bd71-592ebf9cfbd7",
   "metadata": {},
   "source": [
    "Your comments here"
   ]
  },
  {
   "cell_type": "code",
   "execution_count": 30,
   "id": "4341bee4-4387-408d-9bf7-a79087fd8cd2",
   "metadata": {},
   "outputs": [],
   "source": [
    "# A.3.2\n",
    "# Your code here"
   ]
  },
  {
   "cell_type": "markdown",
   "id": "dfc63220-3786-4c27-a6c3-e4cff6279647",
   "metadata": {},
   "source": [
    "Your comments here\n",
    "\n",
    "How should the confidence level be adjusted as the size of the sample increases? Why?\n",
    "\n",
    "Your comments here"
   ]
  }
 ],
 "metadata": {
  "kernelspec": {
   "display_name": "base",
   "language": "python",
   "name": "python3"
  },
  "language_info": {
   "codemirror_mode": {
    "name": "ipython",
    "version": 3
   },
   "file_extension": ".py",
   "mimetype": "text/x-python",
   "name": "python",
   "nbconvert_exporter": "python",
   "pygments_lexer": "ipython3",
   "version": "3.12.4"
  }
 },
 "nbformat": 4,
 "nbformat_minor": 5
}
